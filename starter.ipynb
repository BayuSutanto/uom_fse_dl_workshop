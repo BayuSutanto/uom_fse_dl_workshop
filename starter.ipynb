{
    "cells": [
        {
            "cell_type": "markdown",
            "metadata": {},
            "source": [
                "# 🚀 Workshop Setup Notebook\n",
                "\n",
                "[![Open In Colab](https://colab.research.google.com/assets/colab-badge.svg)](https://colab.research.google.com/github/CLDiego/uom_fse_dl_workshop/blob/colab/setup.ipynb)\n",
                "\n",
                "This notebook will help you set up your environment for the Deep Learning Workshop. Run each cell in order.\n",
                "\n",
                "## Steps:\n",
                "1. Clone the workshop repository\n",
                "2. Install required packages\n",
                "3. Check GPU availability\n",
                "4. Import and test dependencies\n",
                "5. Setup helper functions"
            ]
        },
        {
            "cell_type": "markdown",
            "metadata": {},
            "source": [
                "## 1. Clone Workshop Repository"
            ]
        },
        {
            "cell_type": "code",
            "execution_count": null,
            "metadata": {},
            "outputs": [],
            "source": [
                "# Clone the repository\n",
                "!git clone https://github.com/CLDiego/uom_fse_dl_workshop.git\n",
                "%cd UoM_fse_dl_workshop"
            ]
        },
        {
            "cell_type": "markdown",
            "metadata": {},
            "source": [
                "## 2. Install Requirements"
            ]
        },
        {
            "cell_type": "code",
            "execution_count": null,
            "metadata": {},
            "outputs": [],
            "source": [
                "!pip install -r requirements.txt"
            ]
        },
        {
            "cell_type": "markdown",
            "metadata": {},
            "source": [
                "## 3. Check GPU Availability"
            ]
        },
        {
            "cell_type": "code",
            "execution_count": null,
            "metadata": {},
            "outputs": [],
            "source": [
                "import torch\n",
                "\n",
                "print(\"GPU available:\", torch.cuda.is_available())\n",
                "if torch.cuda.is_available():\n",
                "    print(\"GPU device:\", torch.cuda.get_device_name(0))\n",
                "else:\n",
                "    print(\"⚠️ No GPU available. Go to Runtime > Change runtime type and select GPU\")"
            ]
        },
        {
            "cell_type": "markdown",
            "metadata": {},
            "source": [
                "## 4. Test Imports and Setup"
            ]
        },
        {
            "cell_type": "code",
            "execution_count": null,
            "metadata": {},
            "outputs": [],
            "source": [
                "import sys\n",
                "from pathlib import Path\n",
                "\n",
                "# Add repo to Python path\n",
                "repo_path = Path.cwd()\n",
                "if str(repo_path) not in sys.path:\n",
                "    sys.path.append(str(repo_path))\n",
                "\n",
                "# Import workshop utilities\n",
                "import utils\n",
                "import pandas as pd\n",
                "import numpy as np\n",
                "import matplotlib.pyplot as plt\n",
                "\n",
                "print(\"✅ All dependencies imported successfully!\")"
            ]
        },
        {
            "cell_type": "markdown",
            "metadata": {},
            "source": [
                "## 5. Session Information\n",
                "\n",
                "⚠️ **Important Colab Notes:**\n",
                "- Sessions expire after 12 hours or 90 minutes of inactivity\n",
                "- Your runtime data will be lost when the session ends\n",
                "- Save important outputs to Google Drive\n",
                "- Re-run this setup notebook if you reconnect\n",
                "\n",
                "## 🎯 Next Steps\n",
                "\n",
                "You're all set! You can now open the workshop notebooks in order:\n",
                "1. [SE01_CA_Intro_to_pytorch.ipynb](SE01_CA_Intro_to_pytorch.ipynb)\n",
                "2. [SE02_CA_Neural_Networks.ipynb](SE02_CA_Neural_Networks.ipynb)\n",
                "3. ...\n",
                "\n",
                "Each notebook has an 'Open in Colab' button at the top."
            ]
        }
    ],
    "metadata": {
        "accelerator": "GPU",
        "colab": {
            "name": "00_Setup.ipynb"
        },
        "language_info": {
            "name": "python"
        }
    },
    "nbformat": 4,
    "nbformat_minor": 5
}
